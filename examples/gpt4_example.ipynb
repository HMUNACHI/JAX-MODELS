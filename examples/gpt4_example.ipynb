{
 "cells": [
  {
   "cell_type": "code",
   "execution_count": 5,
   "metadata": {},
   "outputs": [],
   "source": [
    "import jax\n",
    "import jax.numpy as jnp\n",
    "from nanodl import ArrayDataset, DataLoader\n",
    "from nanodl import GPT4, GPTDataParallelTrainer\n",
    "\n",
    "# Generate dummy data\n",
    "batch_size = 8\n",
    "max_length = 9"
   ]
  },
  {
   "cell_type": "code",
   "execution_count": 2,
   "metadata": {},
   "outputs": [
    {
     "name": "stdout",
     "output_type": "stream",
     "text": [
      "(8, 9) (8, 9)\n"
     ]
    }
   ],
   "source": [
    "# Replace with actual tokenised data\n",
    "data = jnp.ones((101, max_length+1), dtype=jnp.int32)\n",
    "\n",
    "# Shift to create next-token prediction dataset\n",
    "dummy_inputs = data[:, :-1]\n",
    "dummy_targets = data[:, 1:]\n",
    "\n",
    "# Create dataset and dataloader\n",
    "dataset = ArrayDataset(dummy_inputs, dummy_targets)\n",
    "dataloader = DataLoader(dataset, \n",
    "                        batch_size=batch_size, \n",
    "                        shuffle=True, \n",
    "                        drop_last=False)\n",
    "\n",
    "# How to loop through dataloader\n",
    "for batch in dataloader:\n",
    "    x, y = batch\n",
    "    print(x.shape, y.shape)\n",
    "    break"
   ]
  },
  {
   "cell_type": "code",
   "execution_count": 3,
   "metadata": {},
   "outputs": [
    {
     "name": "stdout",
     "output_type": "stream",
     "text": [
      "(101, 9, 1000)\n"
     ]
    }
   ],
   "source": [
    "# model parameters\n",
    "hyperparams = {\n",
    "    'num_layers': 1,\n",
    "    'hidden_dim': 256,\n",
    "    'num_heads': 2,\n",
    "    'feedforward_dim': 256,\n",
    "    'dropout': 0.1,\n",
    "    'vocab_size': 1000,\n",
    "    'embed_dim': 256,\n",
    "    'max_length': max_length,\n",
    "    'start_token': 0,\n",
    "    'end_token': 50,\n",
    "}\n",
    "\n",
    "# Initialize model\n",
    "model = GPT4(**hyperparams)\n",
    "rngs = jax.random.PRNGKey(0)\n",
    "rngs, dropout_rng = jax.random.split(rngs)\n",
    "params = model.init({'params': rngs, 'dropout': dropout_rng}, dummy_inputs)['params']\n",
    "\n",
    "# Call as you would a Jax/Flax model\n",
    "outputs = model.apply({'params': params}, \n",
    "                      dummy_inputs, \n",
    "                      rngs={'dropout': dropout_rng})\n",
    "print(outputs.shape)"
   ]
  },
  {
   "cell_type": "code",
   "execution_count": 4,
   "metadata": {},
   "outputs": [
    {
     "name": "stdout",
     "output_type": "stream",
     "text": [
      "Number of parameters: 3740914\n",
      "Number of accelerators: 1\n",
      "Epoch 1, Train Loss: 6.438497066497803\n",
      "Epoch 1, Val Loss: 5.959759712219238\n",
      "New best validation score achieved, saving model...\n",
      "5.9597597\n"
     ]
    }
   ],
   "source": [
    "# Training on data\n",
    "trainer = GPTDataParallelTrainer(model, dummy_inputs.shape, 'params.pkl')\n",
    "trainer.train(train_loader=dataloader, \n",
    "              num_epochs=1, \n",
    "              val_loader=dataloader) # Use actual validation data\n",
    "\n",
    "print(trainer.evaluate(dataloader))"
   ]
  },
  {
   "cell_type": "code",
   "execution_count": 6,
   "metadata": {},
   "outputs": [
    {
     "name": "stdout",
     "output_type": "stream",
     "text": [
      "[639 742  45 840 381 555 251 814 478 261]\n"
     ]
    }
   ],
   "source": [
    "# Generating from a start token\n",
    "start_tokens = jnp.array([[123, 456]])\n",
    "\n",
    "# Remember to load the trained parameters \n",
    "params = trainer.load_params('params.pkl')\n",
    "outputs = model.apply({'params': params},\n",
    "                      start_tokens,\n",
    "                      rngs={'dropout': jax.random.PRNGKey(2)}, \n",
    "                      method=model.generate)\n",
    "print(outputs) "
   ]
  }
 ],
 "metadata": {
  "kernelspec": {
   "display_name": "Python 3",
   "language": "python",
   "name": "python3"
  },
  "language_info": {
   "codemirror_mode": {
    "name": "ipython",
    "version": 3
   },
   "file_extension": ".py",
   "mimetype": "text/x-python",
   "name": "python",
   "nbconvert_exporter": "python",
   "pygments_lexer": "ipython3",
   "version": "3.10.0"
  }
 },
 "nbformat": 4,
 "nbformat_minor": 2
}
