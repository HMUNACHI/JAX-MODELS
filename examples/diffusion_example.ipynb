{
 "cells": [
  {
   "cell_type": "code",
   "execution_count": null,
   "metadata": {},
   "outputs": [],
   "source": [
    "import jax\n",
    "from nanodl import DiffusionModel, DiffusionDataParallelTrainer\n",
    "\n",
    "key = jax.random.PRNGKey(0)\n",
    "image_size = 32\n",
    "widths = [32, 64, 128]\n",
    "block_depth = 2\n",
    "input_shape = (3, image_size, image_size, 3)\n",
    "images = jax.random.normal(key, input_shape)\n",
    "\n",
    "diffusion_model = DiffusionModel(image_size, widths, block_depth)\n",
    "params = diffusion_model.init(key, images)\n",
    "pred_noises, pred_images = diffusion_model.apply(params, images)\n",
    "print(pred_noises.shape, pred_images.shape)\n",
    "\n",
    "generated_images = diffusion_model.apply(params, \n",
    "                                         num_images=5, \n",
    "                                         diffusion_steps=5, \n",
    "                                         method=diffusion_model.generate)\n",
    "print(generated_images.shape)\n",
    "\n",
    "# Training on your data\n",
    "# Note: saved params are often different from training weights, use the saved params for generation\n",
    "dataloader = [(images)] * 10\n",
    "trainer = DiffusionDataParallelTrainer(diffusion_model, images.shape, 'params.pkl')\n",
    "trainer.train(dataloader, 10, dataloader)\n",
    "print(trainer.evaluate(dataloader))"
   ]
  }
 ],
 "metadata": {
  "kernelspec": {
   "display_name": "Python 3",
   "language": "python",
   "name": "python3"
  },
  "language_info": {
   "codemirror_mode": {
    "name": "ipython",
    "version": 3
   },
   "file_extension": ".py",
   "mimetype": "text/x-python",
   "name": "python",
   "nbconvert_exporter": "python",
   "pygments_lexer": "ipython3",
   "version": "3.10.0"
  }
 },
 "nbformat": 4,
 "nbformat_minor": 2
}
