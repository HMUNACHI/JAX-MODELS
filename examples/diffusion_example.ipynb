{
 "cells": [
  {
   "cell_type": "code",
   "execution_count": 1,
   "metadata": {},
   "outputs": [],
   "source": [
    "import jax\n",
    "import jax.numpy as jnp\n",
    "from nanodl import ArrayDataset, DataLoader\n",
    "from nanodl import DiffusionModel, DiffusionDataParallelTrainer\n",
    "\n",
    "image_size = 32\n",
    "block_depth = 2\n",
    "batch_size = 8\n",
    "widths = [32, 64, 128]\n",
    "key = jax.random.PRNGKey(0)"
   ]
  },
  {
   "cell_type": "code",
   "execution_count": 2,
   "metadata": {},
   "outputs": [],
   "source": [
    "# Use actual images\n",
    "images = jnp.ones((101, image_size, image_size, 3))\n",
    "dataset = ArrayDataset(images) \n",
    "dataloader = DataLoader(dataset, \n",
    "                        batch_size=batch_size, \n",
    "                        shuffle=True, \n",
    "                        drop_last=False) "
   ]
  },
  {
   "cell_type": "code",
   "execution_count": 3,
   "metadata": {},
   "outputs": [
    {
     "name": "stdout",
     "output_type": "stream",
     "text": [
      "(101, 32, 32, 3) (101, 32, 32, 3)\n"
     ]
    }
   ],
   "source": [
    "# Create diffusion model\n",
    "diffusion_model = DiffusionModel(image_size, widths, block_depth)\n",
    "params = diffusion_model.init(key, images)\n",
    "pred_noises, pred_images = diffusion_model.apply(params, images)\n",
    "print(pred_noises.shape, pred_images.shape)"
   ]
  },
  {
   "cell_type": "code",
   "execution_count": 4,
   "metadata": {},
   "outputs": [
    {
     "name": "stdout",
     "output_type": "stream",
     "text": [
      "Number of parameters: 1007395\n",
      "Number of accelerators: 1\n",
      "Epoch 1, Train Loss: 7.979574203491211\n",
      "Epoch 1, Val Loss: 24.317951202392578\n",
      "New best validation score achieved, saving model...\n",
      "Epoch 2, Train Loss: 7.75728702545166\n",
      "Epoch 2, Val Loss: 23.518024444580078\n",
      "New best validation score achieved, saving model...\n",
      "Epoch 3, Train Loss: 7.392527103424072\n",
      "Epoch 3, Val Loss: 22.308382034301758\n",
      "New best validation score achieved, saving model...\n",
      "Epoch 4, Train Loss: 6.846263408660889\n",
      "Epoch 4, Val Loss: 20.62131690979004\n",
      "New best validation score achieved, saving model...\n",
      "Epoch 5, Train Loss: 6.1358747482299805\n",
      "Epoch 5, Val Loss: 18.36245346069336\n",
      "New best validation score achieved, saving model...\n",
      "Epoch 6, Train Loss: 5.278435230255127\n",
      "Epoch 6, Val Loss: 15.812017440795898\n",
      "New best validation score achieved, saving model...\n",
      "Epoch 7, Train Loss: 4.328006267547607\n",
      "Epoch 7, Val Loss: 13.123092651367188\n",
      "New best validation score achieved, saving model...\n",
      "Epoch 8, Train Loss: 3.3344056606292725\n",
      "Epoch 8, Val Loss: 10.264131546020508\n",
      "New best validation score achieved, saving model...\n",
      "Epoch 9, Train Loss: 2.401970386505127\n",
      "Epoch 9, Val Loss: 7.67496919631958\n",
      "New best validation score achieved, saving model...\n",
      "Epoch 10, Train Loss: 1.6279072761535645\n",
      "Epoch 10, Val Loss: 5.5517578125\n",
      "New best validation score achieved, saving model...\n",
      "5.551758\n"
     ]
    }
   ],
   "source": [
    "# Training on your data\n",
    "# Note: saved params are often different from training weights, use the saved params for generation\n",
    "trainer = DiffusionDataParallelTrainer(diffusion_model, \n",
    "                                       input_shape=images.shape, \n",
    "                                       weights_filename='params.pkl', \n",
    "                                       learning_rate=1e-4)\n",
    "trainer.train(dataloader, 10, dataloader)\n",
    "print(trainer.evaluate(dataloader))"
   ]
  },
  {
   "cell_type": "code",
   "execution_count": 6,
   "metadata": {},
   "outputs": [
    {
     "name": "stdout",
     "output_type": "stream",
     "text": [
      "(5, 32, 32, 3)\n"
     ]
    }
   ],
   "source": [
    "# Generate some samples\n",
    "params = trainer.load_params('params.pkl')\n",
    "generated_images = diffusion_model.apply({'params': params}, \n",
    "                                         num_images=5, \n",
    "                                         diffusion_steps=5, \n",
    "                                         method=diffusion_model.generate)\n",
    "print(generated_images.shape)"
   ]
  }
 ],
 "metadata": {
  "kernelspec": {
   "display_name": "Python 3",
   "language": "python",
   "name": "python3"
  },
  "language_info": {
   "codemirror_mode": {
    "name": "ipython",
    "version": 3
   },
   "file_extension": ".py",
   "mimetype": "text/x-python",
   "name": "python",
   "nbconvert_exporter": "python",
   "pygments_lexer": "ipython3",
   "version": "3.10.0"
  }
 },
 "nbformat": 4,
 "nbformat_minor": 2
}
