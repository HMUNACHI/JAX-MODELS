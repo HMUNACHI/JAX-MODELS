{
 "cells": [
  {
   "cell_type": "code",
   "execution_count": 5,
   "metadata": {},
   "outputs": [
    {
     "name": "stdout",
     "output_type": "stream",
     "text": [
      "decoder/embedding/embedding: (1000, 256)\n",
      "decoder/layers_0/norm1/scale: (256,)\n",
      "decoder/layers_0/attention1/query_projection/kernel: (256, 128)\n",
      "decoder/layers_0/attention1/query_projection/bias: (128,)\n",
      "decoder/layers_0/attention1/key_projection/kernel: (256, 64)\n",
      "decoder/layers_0/attention1/key_projection/bias: (64,)\n",
      "decoder/layers_0/attention1/value_projection/kernel: (256, 64)\n",
      "decoder/layers_0/attention1/value_projection/bias: (64,)\n",
      "decoder/layers_0/attention1/output/kernel: (256, 256)\n",
      "decoder/layers_0/attention1/output/bias: (256,)\n",
      "decoder/layers_0/norm2/scale: (256,)\n",
      "decoder/layers_0/attention2/query_projection/kernel: (256, 128)\n",
      "decoder/layers_0/attention2/query_projection/bias: (128,)\n",
      "decoder/layers_0/attention2/key_projection/kernel: (256, 64)\n",
      "decoder/layers_0/attention2/key_projection/bias: (64,)\n",
      "decoder/layers_0/attention2/value_projection/kernel: (256, 64)\n",
      "decoder/layers_0/attention2/value_projection/bias: (64,)\n",
      "decoder/layers_0/attention2/output/kernel: (256, 256)\n",
      "decoder/layers_0/attention2/output/bias: (256,)\n",
      "decoder/layers_0/norm3/scale: (256,)\n",
      "decoder/layers_0/feed_forward/dense1/kernel: (256, 256)\n",
      "decoder/layers_0/feed_forward/dense1/bias: (256,)\n",
      "decoder/layers_0/feed_forward/dense3/kernel: (256, 256)\n",
      "decoder/layers_0/feed_forward/dense3/bias: (256,)\n",
      "decoder/layers_0/feed_forward/dense2/kernel: (256, 256)\n",
      "decoder/layers_0/feed_forward/dense2/bias: (256,)\n",
      "decoder/outputs/kernel: (256, 1000)\n",
      "decoder/outputs/bias: (1000,)\n",
      "\n"
     ]
    },
    {
     "ename": "NameError",
     "evalue": "name 'params2' is not defined",
     "output_type": "error",
     "traceback": [
      "\u001b[1;31m---------------------------------------------------------------------------\u001b[0m",
      "\u001b[1;31mNameError\u001b[0m                                 Traceback (most recent call last)",
      "\u001b[1;32m~\\AppData\\Local\\Temp/ipykernel_23640/3742296360.py\u001b[0m in \u001b[0;36m<module>\u001b[1;34m\u001b[0m\n\u001b[0;32m     25\u001b[0m \u001b[0mprint_param_shapes\u001b[0m\u001b[1;33m(\u001b[0m\u001b[0mparams\u001b[0m\u001b[1;33m)\u001b[0m\u001b[1;33m\u001b[0m\u001b[1;33m\u001b[0m\u001b[0m\n\u001b[0;32m     26\u001b[0m \u001b[0mprint\u001b[0m\u001b[1;33m(\u001b[0m\u001b[1;34m''\u001b[0m\u001b[1;33m)\u001b[0m\u001b[1;33m\u001b[0m\u001b[1;33m\u001b[0m\u001b[0m\n\u001b[1;32m---> 27\u001b[1;33m \u001b[0mprint_param_shapes\u001b[0m\u001b[1;33m(\u001b[0m\u001b[0mparams2\u001b[0m\u001b[1;33m)\u001b[0m\u001b[1;33m\u001b[0m\u001b[1;33m\u001b[0m\u001b[0m\n\u001b[0m",
      "\u001b[1;31mNameError\u001b[0m: name 'params2' is not defined"
     ]
    }
   ],
   "source": [
    "import pickle\n",
    "\n",
    "# Load the first pickle file\n",
    "with open('params.pkl', 'rb') as file:\n",
    "    params = pickle.load(file)\n",
    "\n",
    "# # Load the second pickle file\n",
    "# with open('params2.pkl', 'rb') as file:\n",
    "#     params2 = pickle.load(file)\n",
    "\n",
    "# Compare the contents of the two files\n",
    "def print_param_shapes(params):\n",
    "    def print_shapes_recursive(param_dict, prefix=\"\"):\n",
    "        for key, value in param_dict.items():\n",
    "            if isinstance(value, dict):\n",
    "                # Recursive call for nested dictionaries\n",
    "                print_shapes_recursive(value, prefix=prefix + key + \"/\")\n",
    "            else:\n",
    "                # Print the shape of the parameter\n",
    "                print(f\"{prefix}{key}: {value.shape}\")\n",
    "\n",
    "    print_shapes_recursive(params)\n",
    "\n",
    "# Example usage\n",
    "print_param_shapes(params)\n",
    "print('')\n",
    "print_param_shapes(params2)"
   ]
  },
  {
   "cell_type": "code",
   "execution_count": 3,
   "metadata": {},
   "outputs": [
    {
     "name": "stdout",
     "output_type": "stream",
     "text": [
      "decoder/embedding/embedding: (1000, 256)\n",
      "decoder/layers_0/norm1/scale: (256,)\n",
      "decoder/layers_0/attention1/query_projection/kernel: (256, 128)\n",
      "decoder/layers_0/attention1/query_projection/bias: (128,)\n",
      "decoder/layers_0/attention1/key_projection/kernel: (256, 64)\n",
      "decoder/layers_0/attention1/key_projection/bias: (64,)\n",
      "decoder/layers_0/attention1/value_projection/kernel: (256, 64)\n",
      "decoder/layers_0/attention1/value_projection/bias: (64,)\n",
      "decoder/layers_0/attention1/output/kernel: (256, 256)\n",
      "decoder/layers_0/attention1/output/bias: (256,)\n",
      "decoder/layers_0/norm2/scale: (256,)\n",
      "decoder/layers_0/attention2/query_projection/kernel: (256, 128)\n",
      "decoder/layers_0/attention2/query_projection/bias: (128,)\n",
      "decoder/layers_0/attention2/key_projection/kernel: (256, 64)\n",
      "decoder/layers_0/attention2/key_projection/bias: (64,)\n",
      "decoder/layers_0/attention2/value_projection/kernel: (256, 64)\n",
      "decoder/layers_0/attention2/value_projection/bias: (64,)\n",
      "decoder/layers_0/attention2/output/kernel: (256, 256)\n",
      "decoder/layers_0/attention2/output/bias: (256,)\n",
      "decoder/layers_0/norm3/scale: (256,)\n",
      "decoder/layers_0/feed_forward/dense1/kernel: (256, 256)\n",
      "decoder/layers_0/feed_forward/dense1/bias: (256,)\n",
      "decoder/layers_0/feed_forward/dense3/kernel: (256, 256)\n",
      "decoder/layers_0/feed_forward/dense3/bias: (256,)\n",
      "decoder/layers_0/feed_forward/dense2/kernel: (256, 256)\n",
      "decoder/layers_0/feed_forward/dense2/bias: (256,)\n",
      "decoder/outputs/kernel: (256, 1000)\n",
      "decoder/outputs/bias: (1000,)\n"
     ]
    }
   ],
   "source": [
    "def print_param_shapes(params):\n",
    "    def print_shapes_recursive(param_dict, prefix=\"\"):\n",
    "        for key, value in param_dict.items():\n",
    "            if isinstance(value, dict):\n",
    "                # Recursive call for nested dictionaries\n",
    "                print_shapes_recursive(value, prefix=prefix + key + \"/\")\n",
    "            else:\n",
    "                # Print the shape of the parameter\n",
    "                print(f\"{prefix}{key}: {value.shape}\")\n",
    "\n",
    "    print_shapes_recursive(params)\n",
    "\n",
    "# Example usage\n",
    "print_param_shapes(params)"
   ]
  }
 ],
 "metadata": {
  "kernelspec": {
   "display_name": "Python 3",
   "language": "python",
   "name": "python3"
  },
  "language_info": {
   "codemirror_mode": {
    "name": "ipython",
    "version": 3
   },
   "file_extension": ".py",
   "mimetype": "text/x-python",
   "name": "python",
   "nbconvert_exporter": "python",
   "pygments_lexer": "ipython3",
   "version": "3.10.0"
  }
 },
 "nbformat": 4,
 "nbformat_minor": 2
}
