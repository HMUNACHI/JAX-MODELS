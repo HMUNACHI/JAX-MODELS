{
 "cells": [
  {
   "cell_type": "code",
   "execution_count": null,
   "metadata": {},
   "outputs": [],
   "source": [
    "import jax\n",
    "import jax.numpy as jnp\n",
    "import matplotlib.pyplot as plt\n",
    "\n",
    "from nanodl import GaussianMixtureModel\n",
    "\n",
    "# Generate synthetic data using JAX\n",
    "def generate_data(seed=0):\n",
    "    key = jax.random.PRNGKey(seed)\n",
    "    n_samples = 300\n",
    "    mean1 = jnp.array([0, 0])\n",
    "    cov1 = jnp.array([[1, 0], [0, 1]])\n",
    "    data1 = jax.random.multivariate_normal(key, mean1, cov1, (n_samples,))\n",
    "\n",
    "    mean2 = jnp.array([3, 3])\n",
    "    cov2 = jnp.array([[1, -0.5], [-0.5, 1]])\n",
    "    data2 = jax.random.multivariate_normal(key, mean2, cov2, (n_samples,))\n",
    "\n",
    "    X = jnp.vstack([data1, data2])\n",
    "    return X\n",
    "\n",
    "# Generate data\n",
    "X = generate_data()\n",
    "\n",
    "# Fit the model\n",
    "gmm = GaussianMixtureModel(n_components=2, seed=42)\n",
    "gmm.fit(X)\n",
    "\n",
    "# Plot the data and the estimated means\n",
    "plt.scatter(X[:, 0], X[:, 1], s=10, label='Data')\n",
    "plt.scatter(gmm.means[:, 0], gmm.means[:, 1], color='red', label='Estimated Means')\n",
    "plt.xlabel('Feature 1')\n",
    "plt.ylabel('Feature 2')\n",
    "plt.legend()\n",
    "plt.title('Gaussian Mixture Model (JAX)')\n",
    "plt.show()\n",
    "\n",
    "# Print estimated parameters\n",
    "print(\"Estimated Means:\", gmm.means)\n",
    "print(\"Estimated Covariances:\", gmm.covariances)\n",
    "print(\"Estimated Weights:\", gmm.weights)\n",
    "\n",
    "labels = X.predict(X)\n",
    "labels\n"
   ]
  }
 ],
 "metadata": {
  "kernelspec": {
   "display_name": "Python 3",
   "language": "python",
   "name": "python3"
  },
  "language_info": {
   "codemirror_mode": {
    "name": "ipython",
    "version": 3
   },
   "file_extension": ".py",
   "mimetype": "text/x-python",
   "name": "python",
   "nbconvert_exporter": "python",
   "pygments_lexer": "ipython3",
   "version": "3.10.0"
  }
 },
 "nbformat": 4,
 "nbformat_minor": 2
}
