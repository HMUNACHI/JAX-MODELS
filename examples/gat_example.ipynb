{
 "cells": [
  {
   "cell_type": "code",
   "execution_count": 1,
   "metadata": {},
   "outputs": [
    {
     "name": "stdout",
     "output_type": "stream",
     "text": [
      "Output shape: (10, 3)\n",
      "Output sample: [[-0.77854604  0.63543594  0.19899184]\n",
      " [-0.3826082   0.5630409   0.01140817]]\n"
     ]
    }
   ],
   "source": [
    "import jax\n",
    "from nanodl import GAT\n",
    "\n",
    "# Generate a random key for Jax\n",
    "key = jax.random.PRNGKey(0)\n",
    "\n",
    "# Create dummy input data\n",
    "num_nodes = 10\n",
    "num_features = 5\n",
    "x = jax.random.normal(key, (num_nodes, num_features))  # Features for each node\n",
    "adj = jax.random.bernoulli(key, 0.3, (num_nodes, num_nodes))  # Random adjacency matrix\n",
    "\n",
    "# Initialize the GAT model\n",
    "model = GAT(nfeat=num_features,\n",
    "            nhid=8, \n",
    "            nclass=3, \n",
    "            dropout_rate=0.5, \n",
    "            alpha=0.2, \n",
    "            nheads=3)\n",
    "\n",
    "# Initialize the model parameters\n",
    "params = model.init(key, x, adj)\n",
    "output = model.apply(params, x, adj)\n",
    "\n",
    "# Print the output shape and a sample of the output\n",
    "print(\"Output shape:\", output.shape)\n",
    "print(\"Output sample:\", output[:2])"
   ]
  }
 ],
 "metadata": {
  "kernelspec": {
   "display_name": "Python 3",
   "language": "python",
   "name": "python3"
  },
  "language_info": {
   "codemirror_mode": {
    "name": "ipython",
    "version": 3
   },
   "file_extension": ".py",
   "mimetype": "text/x-python",
   "name": "python",
   "nbconvert_exporter": "python",
   "pygments_lexer": "ipython3",
   "version": "3.10.0"
  }
 },
 "nbformat": 4,
 "nbformat_minor": 2
}
