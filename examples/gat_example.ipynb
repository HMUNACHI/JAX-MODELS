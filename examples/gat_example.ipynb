{
 "cells": [
  {
   "cell_type": "code",
   "execution_count": null,
   "metadata": {},
   "outputs": [],
   "source": [
    "import jax\n",
    "from nanodl import GAT\n",
    "\n",
    "# Generate a random key for Jax\n",
    "key = jax.random.PRNGKey(0)\n",
    "\n",
    "# Create dummy input data\n",
    "num_nodes = 10\n",
    "num_features = 5\n",
    "x = jax.random.normal(key, (num_nodes, num_features))  # Features for each node\n",
    "adj = jax.random.bernoulli(key, 0.3, (num_nodes, num_nodes))  # Random adjacency matrix\n",
    "\n",
    "# Initialize the GAT model\n",
    "model = GAT(nfeat=num_features, nhid=8, nclass=3, dropout_rate=0.5, alpha=0.2, nheads=3)\n",
    "\n",
    "# Initialize the model parameters\n",
    "params = model.init(key, x, adj, deterministic=True)\n",
    "\n",
    "# Apply the model in inference mode (deterministic=True)\n",
    "output = model.apply(params, x, adj, deterministic=True)\n",
    "\n",
    "# Print the output shape and a sample of the output\n",
    "print(\"Output shape:\", output.shape)\n",
    "print(\"Output sample:\", output[:2])"
   ]
  }
 ],
 "metadata": {
  "kernelspec": {
   "display_name": "Python 3",
   "language": "python",
   "name": "python3"
  },
  "language_info": {
   "name": "python",
   "version": "3.10.0"
  }
 },
 "nbformat": 4,
 "nbformat_minor": 2
}
