{
 "cells": [
  {
   "cell_type": "code",
   "execution_count": null,
   "metadata": {},
   "outputs": [],
   "source": [
    "import jax\n",
    "import jax.numpy as jnp\n",
    "from nanodl import Whisper, WhisperDataParallelTrainer\n",
    "\n",
    "# Dummy data parameters\n",
    "batch_size = 8\n",
    "max_length = 50\n",
    "embed_dim = 256 \n",
    "vocab_size = 1000 \n",
    "\n",
    "# Generate data\n",
    "dummy_targets = jnp.arange(batch_size * max_length, dtype=jnp.int32).reshape((batch_size, max_length))\n",
    "dummy_inputs = jnp.ones((batch_size, max_length, embed_dim))\n",
    "\n",
    "# model parameters\n",
    "hyperparams = {\n",
    "    'num_layers': 1,\n",
    "    'hidden_dim': 256,\n",
    "    'num_heads': 2,\n",
    "    'feedforward_dim': 256,\n",
    "    'dropout': 0.1,\n",
    "    'vocab_size': 1000,\n",
    "    'embed_dim': embed_dim,\n",
    "    'max_length': max_length,\n",
    "    'start_token': 0,\n",
    "    'end_token': 50,\n",
    "}\n",
    "\n",
    "# Initialize model\n",
    "model = Whisper(**hyperparams)\n",
    "rngs = {'params': jax.random.key(0), 'dropout': jax.random.key(1)}\n",
    "params = model.init(rngs, dummy_inputs, dummy_targets)['params']\n",
    "outputs = model.apply({'params': params}, dummy_inputs, dummy_targets, rngs=rngs)\n",
    "print(outputs.shape)\n",
    "\n",
    "# Training on your data\n",
    "dataloader = [(dummy_inputs, dummy_targets)] * 10\n",
    "trainer = WhisperDataParallelTrainer(model, dummy_inputs.shape, dummy_targets.shape, 'params.pkl')\n",
    "trainer.train(dataloader, 10, dataloader)\n",
    "print(trainer.evaluate(dataloader))"
   ]
  }
 ],
 "metadata": {
  "language_info": {
   "name": "python"
  }
 },
 "nbformat": 4,
 "nbformat_minor": 2
}
