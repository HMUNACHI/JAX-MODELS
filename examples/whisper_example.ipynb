{
 "cells": [
  {
   "cell_type": "code",
   "execution_count": 1,
   "metadata": {},
   "outputs": [],
   "source": [
    "import jax\n",
    "import jax.numpy as jnp\n",
    "from nanodl import ArrayDataset, DataLoader\n",
    "from nanodl import Whisper, WhisperDataParallelTrainer\n",
    "\n",
    "# Dummy data parameters\n",
    "batch_size = 8\n",
    "max_length = 50\n",
    "embed_dim = 256 \n",
    "vocab_size = 1000 "
   ]
  },
  {
   "cell_type": "code",
   "execution_count": 2,
   "metadata": {},
   "outputs": [
    {
     "name": "stdout",
     "output_type": "stream",
     "text": [
      "(8, 50, 256) (8, 50)\n"
     ]
    }
   ],
   "source": [
    "# Generate data: replace with actual tokenised/quantised data\n",
    "dummy_targets = jnp.ones((101, max_length), dtype=jnp.int32)\n",
    "dummy_inputs = jnp.ones((101, max_length, embed_dim))\n",
    "\n",
    "dataset = ArrayDataset(dummy_inputs, \n",
    "                       dummy_targets)\n",
    "\n",
    "dataloader = DataLoader(dataset, \n",
    "                        batch_size=batch_size, \n",
    "                        shuffle=True, \n",
    "                        drop_last=False)\n",
    "\n",
    "# How to loop through dataloader\n",
    "for batch in dataloader:\n",
    "    x, y = batch\n",
    "    print(x.shape, y.shape)\n",
    "    break"
   ]
  },
  {
   "cell_type": "code",
   "execution_count": 3,
   "metadata": {},
   "outputs": [
    {
     "name": "stdout",
     "output_type": "stream",
     "text": [
      "(101, 50, 1000)\n"
     ]
    }
   ],
   "source": [
    "# model parameters\n",
    "hyperparams = {\n",
    "    'num_layers': 1,\n",
    "    'hidden_dim': 256,\n",
    "    'num_heads': 2,\n",
    "    'feedforward_dim': 256,\n",
    "    'dropout': 0.1,\n",
    "    'vocab_size': 1000,\n",
    "    'embed_dim': embed_dim,\n",
    "    'max_length': max_length,\n",
    "    'start_token': 0,\n",
    "    'end_token': 50,\n",
    "}\n",
    "\n",
    "# Initialize model\n",
    "model = Whisper(**hyperparams)\n",
    "rngs = {'params': jax.random.key(0), 'dropout': jax.random.key(1)}\n",
    "params = model.init(rngs, dummy_inputs, dummy_targets)['params']\n",
    "outputs = model.apply({'params': params}, dummy_inputs, dummy_targets, rngs=rngs)\n",
    "print(outputs.shape)"
   ]
  },
  {
   "cell_type": "code",
   "execution_count": 4,
   "metadata": {},
   "outputs": [
    {
     "name": "stdout",
     "output_type": "stream",
     "text": [
      "Number of parameters: 1974760\n",
      "Number of accelerators: 1\n",
      "Epoch 1, Train Loss: 8.127946853637695\n",
      "Epoch 1, Val Loss: 7.081634521484375\n",
      "New best validation score achieved, saving model...\n",
      "Epoch 2, Train Loss: 6.22011137008667\n",
      "Epoch 2, Val Loss: 5.051723957061768\n",
      "New best validation score achieved, saving model...\n"
     ]
    }
   ],
   "source": [
    "# Training on your data\n",
    "trainer = WhisperDataParallelTrainer(model, \n",
    "                                     dummy_inputs.shape, \n",
    "                                     dummy_targets.shape, \n",
    "                                     'params.pkl')\n",
    "trainer.train(dataloader, 2, dataloader)"
   ]
  },
  {
   "cell_type": "code",
   "execution_count": 5,
   "metadata": {},
   "outputs": [
    {
     "name": "stdout",
     "output_type": "stream",
     "text": [
      "[930 471 500 450 936 936 143 851 716 695 275 389 246  79   7 494 562 314\n",
      " 276 583 788 525 302 150 694 694 161 741 902  77 946 294 210 945 272 266\n",
      " 493 553 533 619 703 330 330 154 438 797 334 322  31 649]\n"
     ]
    }
   ],
   "source": [
    "# Sample inference\n",
    "params = trainer.load_params('params.pkl')\n",
    "\n",
    "# for more than one sample, use model.generate_batch\n",
    "transcripts = model.apply({'params': params}, \n",
    "                          dummy_inputs[:1], \n",
    "                          rngs=rngs, \n",
    "                          method=model.generate)\n",
    "\n",
    "print(transcripts)"
   ]
  }
 ],
 "metadata": {
  "kernelspec": {
   "display_name": "Python 3",
   "language": "python",
   "name": "python3"
  },
  "language_info": {
   "codemirror_mode": {
    "name": "ipython",
    "version": 3
   },
   "file_extension": ".py",
   "mimetype": "text/x-python",
   "name": "python",
   "nbconvert_exporter": "python",
   "pygments_lexer": "ipython3",
   "version": "3.10.0"
  }
 },
 "nbformat": 4,
 "nbformat_minor": 2
}
