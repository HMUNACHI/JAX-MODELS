{
 "cells": [
  {
   "cell_type": "code",
   "execution_count": null,
   "metadata": {},
   "outputs": [],
   "source": [
    "import jax.numpy as jnp\n",
    "from nanodl import ArrayDataset, DataLoader\n",
    "\n",
    "dataset = ArrayDataset(jnp.ones((1001, 256, 256)), \n",
    "                       jnp.ones((1001, 256, 256)))\n",
    "\n",
    "dataloader = DataLoader(dataset, \n",
    "                        batch_size=10, \n",
    "                        shuffle=True, \n",
    "                        drop_last=False)\n",
    "\n",
    "for batch in dataloader:\n",
    "    x, y = batch\n",
    "    print(x.shape, y.shape)"
   ]
  },
  {
   "cell_type": "code",
   "execution_count": null,
   "metadata": {},
   "outputs": [],
   "source": [
    "from nanodl import cider_score\n",
    "\n",
    "hypothesis = \"the cat is on the mat\"\n",
    "reference = \"the cat sits on the mat\"\n",
    "score = cider_score(hypothesis, reference)\n",
    "print(score)"
   ]
  },
  {
   "cell_type": "code",
   "execution_count": null,
   "metadata": {},
   "outputs": [],
   "source": [
    "from nanodl import gaussian_blur\n",
    "import matplotlib.pyplot as plt\n",
    "\n",
    "image = jnp.ones((5, 5, 3))  # Example image with 3 channels\n",
    "blurred_image = gaussian_blur(image, kernel_size=3, sigma=1.0)\n",
    "plt.imshow(image)\n",
    "plt.imshow(blurred_image)\n",
    "plt.show()"
   ]
  },
  {
   "cell_type": "code",
   "execution_count": null,
   "metadata": {},
   "outputs": [],
   "source": [
    "from nanodl import classification_scores\n",
    "\n",
    "labels = jnp.array([1, 0, 1, 0, 1, 0, 1, 0, 1, 0])\n",
    "preds = jnp.array([1, 1, 1, 0, 1, 0, 1, 0, 0, 0])\n",
    "print(classification_scores(labels, preds))"
   ]
  }
 ],
 "metadata": {
  "language_info": {
   "name": "python"
  }
 },
 "nbformat": 4,
 "nbformat_minor": 2
}
